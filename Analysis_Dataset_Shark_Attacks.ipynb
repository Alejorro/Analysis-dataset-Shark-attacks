{
 "nbformat": 4,
 "nbformat_minor": 2,
 "metadata": {
  "language_info": {
   "name": "python",
   "codemirror_mode": {
    "name": "ipython",
    "version": 3
   },
   "version": "3.6.9-final"
  },
  "orig_nbformat": 2,
  "file_extension": ".py",
  "mimetype": "text/x-python",
  "name": "python",
  "npconvert_exporter": "python",
  "pygments_lexer": "ipython3",
  "version": 3,
  "kernelspec": {
   "name": "python36964bit393d81eb15b54b0093ea31921d80c86d",
   "display_name": "Python 3.6.9 64-bit"
  }
 },
 "cells": [
  {
   "cell_type": "markdown",
   "execution_count": null,
   "metadata": {},
   "outputs": [],
   "source": [
    "## Hipotesis: \"Los ataques de tiburón mortales disminuyen mientras la película de \"Tiburón\" está en cartelera\""
   ]
  },
  {
   "cell_type": "code",
   "execution_count": null,
   "metadata": {},
   "outputs": [],
   "source": []
  },
  {
   "cell_type": "markdown",
   "execution_count": 31,
   "metadata": {},
   "outputs": [],
   "source": [
    "## Bibliotecas y módulos importados"
   ]
  },
  {
   "cell_type": "code",
   "execution_count": 190,
   "metadata": {},
   "outputs": [],
   "source": [
    "import pandas as pd\n",
    "\n",
    "import re as regex\n",
    "\n",
    "from src.functions import *\n",
    "\n",
    "import matplotlib.pyplot as plt\n",
    "\n",
    "import warnings\n",
    "warnings.filterwarnings('ignore')\n",
    "\n"
   ]
  },
  {
   "cell_type": "markdown",
   "execution_count": null,
   "metadata": {},
   "outputs": [],
   "source": [
    "## Importación de CSV principal "
   ]
  },
  {
   "cell_type": "code",
   "execution_count": 191,
   "metadata": {},
   "outputs": [],
   "source": [
    "df = pd.read_csv(\"Inputs/Dataset_Shark_Attacks.csv\", encoding = \"ISO-8859-1\")\n",
    "\n",
    "# pd.set_option('display.max_rows', 6000)\n",
    "# pd.set_option('display.max_columns', 500)\n",
    "\n",
    "# display(df)\n"
   ]
  },
  {
   "cell_type": "code",
   "execution_count": 192,
   "metadata": {},
   "outputs": [],
   "source": [
    "#Observamos la envergadura y principales detalles del Dataset\n",
    "\n",
    "#display(f\"La dimensión del dataset son {df.shape[0]} filas y {df.shape[1]} columnas, mientras que sus columnas son: {list(df.columns)}\")\n",
    "\n",
    "# df.head(5)\n",
    "\n",
    "# df.tail(5)\n",
    "\n",
    "# df.shape\n",
    "\n",
    "# df.columns"
   ]
  },
  {
   "cell_type": "markdown",
   "execution_count": null,
   "metadata": {},
   "outputs": [],
   "source": [
    "## Tratamiento de filas y columnas principales"
   ]
  },
  {
   "cell_type": "code",
   "execution_count": 193,
   "metadata": {},
   "outputs": [],
   "source": [
    "renaming = {df.columns[9]: 'Género'}\n",
    "\n",
    "df2 = df.rename(columns=renaming)\n",
    "\n",
    "df3 = df2.rename(columns={'Case Number':'Casos','Date':'Fecha','Year':'Años','Type':'Ataque', 'Country':'País', 'Area':'Área', 'Location':'Localización','Activity':'Actividad', 'Age':'Edad', 'Injury':'Herida', 'Fatal (Y/N)':'Mortalidad'})\n"
   ]
  },
  {
   "cell_type": "code",
   "execution_count": 194,
   "metadata": {},
   "outputs": [],
   "source": [
    "df4 = df3[['Casos','Fecha','Años','Ataque','País','Área','Localización','Actividad','Género','Edad','Herida','Mortalidad']]"
   ]
  },
  {
   "cell_type": "code",
   "execution_count": 195,
   "metadata": {},
   "outputs": [],
   "source": [
    "\n",
    "df4.Caso = df4[\"Casos\"].astype(str).apply(case_filtering).dropna()\n"
   ]
  },
  {
   "cell_type": "code",
   "execution_count": 196,
   "metadata": {},
   "outputs": [
    {
     "data": {
      "text/html": "<div>\n<style scoped>\n    .dataframe tbody tr th:only-of-type {\n        vertical-align: middle;\n    }\n\n    .dataframe tbody tr th {\n        vertical-align: top;\n    }\n\n    .dataframe thead th {\n        text-align: right;\n    }\n</style>\n<table border=\"1\" class=\"dataframe\">\n  <thead>\n    <tr style=\"text-align: right;\">\n      <th></th>\n      <th>Años</th>\n      <th>Casos</th>\n      <th>Género</th>\n      <th>Mortalidad</th>\n    </tr>\n  </thead>\n  <tbody>\n    <tr>\n      <th>0</th>\n      <td>2016</td>\n      <td>2016.09.18.c</td>\n      <td>M</td>\n      <td>N</td>\n    </tr>\n    <tr>\n      <th>1</th>\n      <td>2016</td>\n      <td>2016.09.18.b</td>\n      <td>M</td>\n      <td>N</td>\n    </tr>\n    <tr>\n      <th>2</th>\n      <td>2016</td>\n      <td>2016.09.18.a</td>\n      <td>M</td>\n      <td>N</td>\n    </tr>\n  </tbody>\n</table>\n</div>",
      "text/plain": "   Años         Casos Género Mortalidad\n0  2016  2016.09.18.c      M          N\n1  2016  2016.09.18.b      M          N\n2  2016  2016.09.18.a      M          N"
     },
     "execution_count": 196,
     "metadata": {},
     "output_type": "execute_result"
    }
   ],
   "source": [
    "df4 = df4[[\"Años\",\"Casos\",\"Género\", \"Mortalidad\"]]\n",
    "\n",
    "df4.sort_values(\"Años\",ascending=False).dropna().set_index(\"Años\")\n",
    "\n",
    "df4.head(3)"
   ]
  },
  {
   "cell_type": "code",
   "execution_count": 197,
   "metadata": {},
   "outputs": [
    {
     "data": {
      "text/plain": "dtype('O')"
     },
     "execution_count": 197,
     "metadata": {},
     "output_type": "execute_result"
    }
   ],
   "source": [
    "df4.Supervivencia = df4[\"Mortalidad\"].astype(str)\n",
    "\n",
    "df4.Supervivencia.dtypes\n",
    "\n"
   ]
  },
  {
   "cell_type": "code",
   "execution_count": 198,
   "metadata": {},
   "outputs": [
    {
     "data": {
      "text/html": "<div>\n<style scoped>\n    .dataframe tbody tr th:only-of-type {\n        vertical-align: middle;\n    }\n\n    .dataframe tbody tr th {\n        vertical-align: top;\n    }\n\n    .dataframe thead th {\n        text-align: right;\n    }\n</style>\n<table border=\"1\" class=\"dataframe\">\n  <thead>\n    <tr style=\"text-align: right;\">\n      <th></th>\n      <th>Años</th>\n      <th>Casos</th>\n      <th>Género</th>\n      <th>Mortalidad</th>\n    </tr>\n  </thead>\n  <tbody>\n    <tr>\n      <th>0</th>\n      <td>2016</td>\n      <td>2016.09.18.c</td>\n      <td>M</td>\n      <td>0</td>\n    </tr>\n    <tr>\n      <th>1</th>\n      <td>2016</td>\n      <td>2016.09.18.b</td>\n      <td>M</td>\n      <td>0</td>\n    </tr>\n    <tr>\n      <th>2</th>\n      <td>2016</td>\n      <td>2016.09.18.a</td>\n      <td>M</td>\n      <td>0</td>\n    </tr>\n  </tbody>\n</table>\n</div>",
      "text/plain": "   Años         Casos Género Mortalidad\n0  2016  2016.09.18.c      M          0\n1  2016  2016.09.18.b      M          0\n2  2016  2016.09.18.a      M          0"
     },
     "execution_count": 198,
     "metadata": {},
     "output_type": "execute_result"
    }
   ],
   "source": [
    "\n",
    "\n",
    "df4.Mortalidad = df4[\"Mortalidad\"].astype(str).apply(m_correction)\n",
    "\n",
    "df4.loc[df4['Mortalidad'] == \"0\"]\n",
    "\n",
    "df4.head(3)\n",
    "\n",
    "\n"
   ]
  },
  {
   "cell_type": "code",
   "execution_count": 199,
   "metadata": {},
   "outputs": [
    {
     "data": {
      "text/html": "<div>\n<style scoped>\n    .dataframe tbody tr th:only-of-type {\n        vertical-align: middle;\n    }\n\n    .dataframe tbody tr th {\n        vertical-align: top;\n    }\n\n    .dataframe thead th {\n        text-align: right;\n    }\n</style>\n<table border=\"1\" class=\"dataframe\">\n  <thead>\n    <tr style=\"text-align: right;\">\n      <th></th>\n      <th>Años</th>\n      <th>Casos</th>\n      <th>Género</th>\n      <th>Mortalidad</th>\n    </tr>\n  </thead>\n  <tbody>\n    <tr>\n      <th>0</th>\n      <td>2016</td>\n      <td>2016.09.18.c</td>\n      <td>M</td>\n      <td>0</td>\n    </tr>\n    <tr>\n      <th>1</th>\n      <td>2016</td>\n      <td>2016.09.18.b</td>\n      <td>M</td>\n      <td>0</td>\n    </tr>\n    <tr>\n      <th>2</th>\n      <td>2016</td>\n      <td>2016.09.18.a</td>\n      <td>M</td>\n      <td>0</td>\n    </tr>\n  </tbody>\n</table>\n</div>",
      "text/plain": "   Años         Casos Género Mortalidad\n0  2016  2016.09.18.c      M          0\n1  2016  2016.09.18.b      M          0\n2  2016  2016.09.18.a      M          0"
     },
     "execution_count": 199,
     "metadata": {},
     "output_type": "execute_result"
    }
   ],
   "source": [
    "df4 = df4.iloc[0:5325].dropna()\n",
    "\n",
    "df4.head(3)"
   ]
  },
  {
   "cell_type": "code",
   "execution_count": 200,
   "metadata": {},
   "outputs": [],
   "source": [
    "df4[\"Mortalidad\"] = df4[\"Mortalidad\"].astype(\"int64\")\n",
    "\n",
    "df4[\"Género\"] = df4[\"Género\"].astype(str)\n"
   ]
  },
  {
   "cell_type": "code",
   "execution_count": 201,
   "metadata": {},
   "outputs": [
    {
     "data": {
      "text/html": "<div>\n<style scoped>\n    .dataframe tbody tr th:only-of-type {\n        vertical-align: middle;\n    }\n\n    .dataframe tbody tr th {\n        vertical-align: top;\n    }\n\n    .dataframe thead th {\n        text-align: right;\n    }\n</style>\n<table border=\"1\" class=\"dataframe\">\n  <thead>\n    <tr style=\"text-align: right;\">\n      <th></th>\n      <th>Años</th>\n      <th>Casos</th>\n      <th>Hombres</th>\n      <th>Mujeres</th>\n      <th>Mortalidad</th>\n    </tr>\n  </thead>\n  <tbody>\n    <tr>\n      <th>0</th>\n      <td>2016</td>\n      <td>2016.09.18.c</td>\n      <td>1</td>\n      <td>0</td>\n      <td>0</td>\n    </tr>\n    <tr>\n      <th>1</th>\n      <td>2016</td>\n      <td>2016.09.18.b</td>\n      <td>1</td>\n      <td>0</td>\n      <td>0</td>\n    </tr>\n    <tr>\n      <th>2</th>\n      <td>2016</td>\n      <td>2016.09.18.a</td>\n      <td>1</td>\n      <td>0</td>\n      <td>0</td>\n    </tr>\n  </tbody>\n</table>\n</div>",
      "text/plain": "   Años         Casos  Hombres  Mujeres  Mortalidad\n0  2016  2016.09.18.c        1        0           0\n1  2016  2016.09.18.b        1        0           0\n2  2016  2016.09.18.a        1        0           0"
     },
     "execution_count": 201,
     "metadata": {},
     "output_type": "execute_result"
    }
   ],
   "source": [
    "df4['Hombres'] = df4.Género.apply(lambda x: x==\"M\")\n",
    "\n",
    "df4['Mujeres'] = df4.Género.apply(lambda x: x==\"F\")\n",
    "\n",
    "df4 = df4[[\"Años\",\"Casos\",\"Hombres\",\"Mujeres\",\"Mortalidad\"]]\n",
    "\n",
    "def genero_fixing(x):\n",
    "\n",
    "    if x == True:\n",
    "        return 1\n",
    "\n",
    "    else:\n",
    "        return 0\n",
    "\n",
    "\n",
    "df4['Mujeres'] = df4.Mujeres.apply(genero_fixing)\n",
    "\n",
    "df4['Hombres'] = df4.Hombres.apply(genero_fixing)\n",
    "\n",
    "df4.head(3)"
   ]
  },
  {
   "cell_type": "code",
   "execution_count": 202,
   "metadata": {},
   "outputs": [
    {
     "data": {
      "text/html": "<div>\n<style scoped>\n    .dataframe tbody tr th:only-of-type {\n        vertical-align: middle;\n    }\n\n    .dataframe tbody tr th {\n        vertical-align: top;\n    }\n\n    .dataframe thead th {\n        text-align: right;\n    }\n</style>\n<table border=\"1\" class=\"dataframe\">\n  <thead>\n    <tr style=\"text-align: right;\">\n      <th></th>\n      <th>Años</th>\n      <th>Casos</th>\n      <th>Hombres</th>\n      <th>Mujeres</th>\n      <th>Mortalidad</th>\n    </tr>\n  </thead>\n  <tbody>\n    <tr>\n      <th>0</th>\n      <td>1848</td>\n      <td>1</td>\n      <td>1</td>\n      <td>0</td>\n      <td>1</td>\n    </tr>\n    <tr>\n      <th>1</th>\n      <td>1900</td>\n      <td>11</td>\n      <td>11</td>\n      <td>0</td>\n      <td>5</td>\n    </tr>\n    <tr>\n      <th>2</th>\n      <td>1901</td>\n      <td>7</td>\n      <td>7</td>\n      <td>0</td>\n      <td>3</td>\n    </tr>\n  </tbody>\n</table>\n</div>",
      "text/plain": "   Años  Casos  Hombres  Mujeres  Mortalidad\n0  1848      1        1        0           1\n1  1900     11       11        0           5\n2  1901      7        7        0           3"
     },
     "execution_count": 202,
     "metadata": {},
     "output_type": "execute_result"
    }
   ],
   "source": [
    "df4 = df4.groupby([\"Años\"]).agg({'Casos':'count', 'Hombres': 'sum', 'Mujeres': 'sum', 'Mortalidad':'sum'}).dropna().reset_index()\n",
    "\n",
    "df4.head(3)"
   ]
  },
  {
   "cell_type": "code",
   "execution_count": 203,
   "metadata": {},
   "outputs": [
    {
     "data": {
      "text/html": "<div>\n<style scoped>\n    .dataframe tbody tr th:only-of-type {\n        vertical-align: middle;\n    }\n\n    .dataframe tbody tr th {\n        vertical-align: top;\n    }\n\n    .dataframe thead th {\n        text-align: right;\n    }\n</style>\n<table border=\"1\" class=\"dataframe\">\n  <thead>\n    <tr style=\"text-align: right;\">\n      <th></th>\n      <th>Años</th>\n      <th>Casos</th>\n      <th>Hombres</th>\n      <th>Mujeres</th>\n      <th>Mortalidad</th>\n    </tr>\n  </thead>\n  <tbody>\n    <tr>\n      <th>0</th>\n      <td>1848</td>\n      <td>1</td>\n      <td>1</td>\n      <td>0</td>\n      <td>1</td>\n    </tr>\n    <tr>\n      <th>1</th>\n      <td>1900</td>\n      <td>11</td>\n      <td>11</td>\n      <td>0</td>\n      <td>5</td>\n    </tr>\n    <tr>\n      <th>2</th>\n      <td>1901</td>\n      <td>7</td>\n      <td>7</td>\n      <td>0</td>\n      <td>3</td>\n    </tr>\n  </tbody>\n</table>\n</div>",
      "text/plain": "   Años  Casos  Hombres  Mujeres  Mortalidad\n0  1848      1        1        0           1\n1  1900     11       11        0           5\n2  1901      7        7        0           3"
     },
     "execution_count": 203,
     "metadata": {},
     "output_type": "execute_result"
    }
   ],
   "source": [
    "df5 = df4\n",
    "\n",
    "df5.reset_index()\n",
    "\n",
    "df5.head(3)\n"
   ]
  },
  {
   "cell_type": "markdown",
   "execution_count": null,
   "metadata": {},
   "outputs": [],
   "source": [
    "## Importación de CSV secundario"
   ]
  },
  {
   "cell_type": "code",
   "execution_count": 204,
   "metadata": {},
   "outputs": [],
   "source": [
    "fd = pd.read_csv(\"Inputs/Dataset_Movies.csv\", encoding = \"ISO-8859-1\")\n"
   ]
  },
  {
   "cell_type": "code",
   "execution_count": 205,
   "metadata": {},
   "outputs": [
    {
     "data": {
      "text/plain": "Index(['adult', 'belongs_to_collection', 'budget', 'genres', 'homepage', 'id',\n       'imdb_id', 'original_language', 'original_title', 'overview',\n       'popularity', 'poster_path', 'production_companies',\n       'production_countries', 'release_date', 'revenue', 'runtime',\n       'spoken_languages', 'status', 'tagline', 'title', 'video',\n       'vote_average', 'vote_count'],\n      dtype='object')"
     },
     "execution_count": 205,
     "metadata": {},
     "output_type": "execute_result"
    }
   ],
   "source": [
    "fd.columns"
   ]
  },
  {
   "cell_type": "code",
   "execution_count": 206,
   "metadata": {},
   "outputs": [],
   "source": [
    "fd2 = fd.rename(columns = {\"release_date\":\"Lanzamiento\",\"original_title\":\"Título\"})\n",
    "\n",
    "fd3 = fd2[[\"Lanzamiento\",\"Título\"]]"
   ]
  },
  {
   "cell_type": "markdown",
   "execution_count": null,
   "metadata": {},
   "outputs": [],
   "source": [
    "## Tratamiento de filas y columnas secundarias"
   ]
  },
  {
   "cell_type": "code",
   "execution_count": 207,
   "metadata": {},
   "outputs": [],
   "source": [
    "fd3.Lanzamiento = fd3[\"Lanzamiento\"].astype(str).apply(case_filtering)\n"
   ]
  },
  {
   "cell_type": "code",
   "execution_count": 208,
   "metadata": {},
   "outputs": [
    {
     "data": {
      "text/html": "<div>\n<style scoped>\n    .dataframe tbody tr th:only-of-type {\n        vertical-align: middle;\n    }\n\n    .dataframe tbody tr th {\n        vertical-align: top;\n    }\n\n    .dataframe thead th {\n        text-align: right;\n    }\n</style>\n<table border=\"1\" class=\"dataframe\">\n  <thead>\n    <tr style=\"text-align: right;\">\n      <th></th>\n      <th>Lanzamiento</th>\n      <th>Título</th>\n      <th>Años</th>\n    </tr>\n  </thead>\n  <tbody>\n    <tr>\n      <th>318</th>\n      <td>10-09-1994</td>\n      <td>swimming with sharks</td>\n      <td>1994</td>\n    </tr>\n    <tr>\n      <th>1338</th>\n      <td>18-06-1975</td>\n      <td>jaws</td>\n      <td>1975</td>\n    </tr>\n    <tr>\n      <th>1339</th>\n      <td>16-06-1978</td>\n      <td>jaws 2</td>\n      <td>1978</td>\n    </tr>\n  </tbody>\n</table>\n</div>",
      "text/plain": "     Lanzamiento                Título  Años\n318   10-09-1994  swimming with sharks  1994\n1338  18-06-1975                  jaws  1975\n1339  16-06-1978                jaws 2  1978"
     },
     "execution_count": 208,
     "metadata": {},
     "output_type": "execute_result"
    }
   ],
   "source": [
    "# fd4[fd4['Título'].astype(str).str.contains(\"shark\")]\n",
    "\n",
    "fd3.Título = fd3[\"Título\"].astype(str).apply(find_word)\n",
    "\n",
    "fd4 = fd3.dropna(axis=0, subset=['Lanzamiento', 'Título'])\n",
    "\n",
    "fd4[\"Años\"] =  fd4[\"Lanzamiento\"].astype(str).apply(extract_year)\n",
    "\n",
    "fd4[\"Años\"] = fd4[\"Años\"].astype(int)\n",
    "\n",
    "fd4.head(3)\n",
    "\n"
   ]
  },
  {
   "cell_type": "code",
   "execution_count": 209,
   "metadata": {},
   "outputs": [
    {
     "data": {
      "text/html": "<div>\n<style scoped>\n    .dataframe tbody tr th:only-of-type {\n        vertical-align: middle;\n    }\n\n    .dataframe tbody tr th {\n        vertical-align: top;\n    }\n\n    .dataframe thead th {\n        text-align: right;\n    }\n</style>\n<table border=\"1\" class=\"dataframe\">\n  <thead>\n    <tr style=\"text-align: right;\">\n      <th></th>\n      <th>Años</th>\n      <th>Lanzamiento</th>\n      <th>Título</th>\n    </tr>\n  </thead>\n  <tbody>\n    <tr>\n      <th>318</th>\n      <td>1994</td>\n      <td>10-09-1994</td>\n      <td>swimming with sharks</td>\n    </tr>\n    <tr>\n      <th>1338</th>\n      <td>1975</td>\n      <td>18-06-1975</td>\n      <td>jaws</td>\n    </tr>\n    <tr>\n      <th>1339</th>\n      <td>1978</td>\n      <td>16-06-1978</td>\n      <td>jaws 2</td>\n    </tr>\n  </tbody>\n</table>\n</div>",
      "text/plain": "      Años Lanzamiento                Título\n318   1994  10-09-1994  swimming with sharks\n1338  1975  18-06-1975                  jaws\n1339  1978  16-06-1978                jaws 2"
     },
     "execution_count": 209,
     "metadata": {},
     "output_type": "execute_result"
    }
   ],
   "source": [
    "fd4 = fd4[[\"Años\", \"Lanzamiento\", \"Título\"]]\n",
    "\n",
    "fd4.sort_values(\"Años\", ascending=False).dropna().reset_index()\n",
    "\n",
    "fd4.head(3)\n",
    "\n",
    "# .set_index(\"Años\")"
   ]
  },
  {
   "cell_type": "code",
   "execution_count": 210,
   "metadata": {},
   "outputs": [
    {
     "data": {
      "text/html": "<div>\n<style scoped>\n    .dataframe tbody tr th:only-of-type {\n        vertical-align: middle;\n    }\n\n    .dataframe tbody tr th {\n        vertical-align: top;\n    }\n\n    .dataframe thead th {\n        text-align: right;\n    }\n</style>\n<table border=\"1\" class=\"dataframe\">\n  <thead>\n    <tr style=\"text-align: right;\">\n      <th></th>\n      <th>Años</th>\n      <th>Lanzamiento</th>\n      <th>Título</th>\n    </tr>\n  </thead>\n  <tbody>\n    <tr>\n      <th>0</th>\n      <td>1932</td>\n      <td>1</td>\n      <td>1</td>\n    </tr>\n    <tr>\n      <th>1</th>\n      <td>1936</td>\n      <td>1</td>\n      <td>1</td>\n    </tr>\n    <tr>\n      <th>2</th>\n      <td>1950</td>\n      <td>1</td>\n      <td>1</td>\n    </tr>\n  </tbody>\n</table>\n</div>",
      "text/plain": "   Años  Lanzamiento  Título\n0  1932            1       1\n1  1936            1       1\n2  1950            1       1"
     },
     "execution_count": 210,
     "metadata": {},
     "output_type": "execute_result"
    }
   ],
   "source": [
    "fd6 = fd4.groupby([\"Años\"]).count().dropna().reset_index()\n",
    "\n",
    "fd6.head(3)\n"
   ]
  },
  {
   "cell_type": "markdown",
   "execution_count": null,
   "metadata": {},
   "outputs": [],
   "source": [
    "## Fusión de Dataframes tratados previamente"
   ]
  },
  {
   "cell_type": "code",
   "execution_count": 211,
   "metadata": {},
   "outputs": [
    {
     "data": {
      "text/html": "<div>\n<style scoped>\n    .dataframe tbody tr th:only-of-type {\n        vertical-align: middle;\n    }\n\n    .dataframe tbody tr th {\n        vertical-align: top;\n    }\n\n    .dataframe thead th {\n        text-align: right;\n    }\n</style>\n<table border=\"1\" class=\"dataframe\">\n  <thead>\n    <tr style=\"text-align: right;\">\n      <th></th>\n      <th>Años</th>\n      <th>Casos</th>\n      <th>Hombres</th>\n      <th>Mujeres</th>\n      <th>Mortalidad</th>\n      <th>Lanzamiento</th>\n      <th>Título</th>\n    </tr>\n  </thead>\n  <tbody>\n    <tr>\n      <th>0</th>\n      <td>1848</td>\n      <td>1</td>\n      <td>1</td>\n      <td>0</td>\n      <td>1</td>\n      <td>0</td>\n      <td>0</td>\n    </tr>\n    <tr>\n      <th>1</th>\n      <td>1900</td>\n      <td>11</td>\n      <td>11</td>\n      <td>0</td>\n      <td>5</td>\n      <td>0</td>\n      <td>0</td>\n    </tr>\n    <tr>\n      <th>2</th>\n      <td>1901</td>\n      <td>7</td>\n      <td>7</td>\n      <td>0</td>\n      <td>3</td>\n      <td>0</td>\n      <td>0</td>\n    </tr>\n  </tbody>\n</table>\n</div>",
      "text/plain": "   Años  Casos  Hombres  Mujeres  Mortalidad  Lanzamiento  Título\n0  1848      1        1        0           1            0       0\n1  1900     11       11        0           5            0       0\n2  1901      7        7        0           3            0       0"
     },
     "execution_count": 211,
     "metadata": {},
     "output_type": "execute_result"
    }
   ],
   "source": [
    "dfinal = pd.merge(df5, fd6, on=\"Años\",how=\"outer\")\n",
    "\n",
    "pd.options.display.float_format = '{:,.0f}'.format\n",
    "dfinal\n",
    "\n",
    "dfinal2 = dfinal.fillna(0)\n",
    "\n",
    "pd.set_option('display.max_rows', 150)\n",
    "\n",
    "dfinal2.head(3)"
   ]
  },
  {
   "cell_type": "markdown",
   "execution_count": null,
   "metadata": {},
   "outputs": [],
   "source": [
    "## Tabla Final "
   ]
  },
  {
   "cell_type": "code",
   "execution_count": 212,
   "metadata": {},
   "outputs": [
    {
     "data": {
      "text/html": "<div>\n<style scoped>\n    .dataframe tbody tr th:only-of-type {\n        vertical-align: middle;\n    }\n\n    .dataframe tbody tr th {\n        vertical-align: top;\n    }\n\n    .dataframe thead th {\n        text-align: right;\n    }\n</style>\n<table border=\"1\" class=\"dataframe\">\n  <thead>\n    <tr style=\"text-align: right;\">\n      <th></th>\n      <th>Casos</th>\n      <th>Hombres</th>\n      <th>Mujeres</th>\n      <th>Mortalidad</th>\n      <th>Título</th>\n    </tr>\n    <tr>\n      <th>Años</th>\n      <th></th>\n      <th></th>\n      <th></th>\n      <th></th>\n      <th></th>\n    </tr>\n  </thead>\n  <tbody>\n    <tr>\n      <th>1900</th>\n      <td>11</td>\n      <td>11</td>\n      <td>0</td>\n      <td>5</td>\n      <td>0</td>\n    </tr>\n    <tr>\n      <th>1901</th>\n      <td>7</td>\n      <td>7</td>\n      <td>0</td>\n      <td>3</td>\n      <td>0</td>\n    </tr>\n    <tr>\n      <th>1902</th>\n      <td>15</td>\n      <td>15</td>\n      <td>0</td>\n      <td>7</td>\n      <td>0</td>\n    </tr>\n    <tr>\n      <th>1903</th>\n      <td>10</td>\n      <td>10</td>\n      <td>0</td>\n      <td>8</td>\n      <td>0</td>\n    </tr>\n    <tr>\n      <th>1904</th>\n      <td>13</td>\n      <td>13</td>\n      <td>0</td>\n      <td>9</td>\n      <td>0</td>\n    </tr>\n    <tr>\n      <th>1905</th>\n      <td>14</td>\n      <td>14</td>\n      <td>0</td>\n      <td>9</td>\n      <td>0</td>\n    </tr>\n    <tr>\n      <th>1906</th>\n      <td>21</td>\n      <td>21</td>\n      <td>0</td>\n      <td>14</td>\n      <td>0</td>\n    </tr>\n    <tr>\n      <th>1907</th>\n      <td>23</td>\n      <td>20</td>\n      <td>3</td>\n      <td>13</td>\n      <td>0</td>\n    </tr>\n    <tr>\n      <th>1908</th>\n      <td>11</td>\n      <td>9</td>\n      <td>1</td>\n      <td>10</td>\n      <td>0</td>\n    </tr>\n    <tr>\n      <th>1909</th>\n      <td>15</td>\n      <td>12</td>\n      <td>3</td>\n      <td>9</td>\n      <td>0</td>\n    </tr>\n    <tr>\n      <th>1910</th>\n      <td>12</td>\n      <td>12</td>\n      <td>0</td>\n      <td>5</td>\n      <td>0</td>\n    </tr>\n    <tr>\n      <th>1911</th>\n      <td>15</td>\n      <td>15</td>\n      <td>0</td>\n      <td>9</td>\n      <td>0</td>\n    </tr>\n    <tr>\n      <th>1912</th>\n      <td>12</td>\n      <td>12</td>\n      <td>0</td>\n      <td>6</td>\n      <td>0</td>\n    </tr>\n    <tr>\n      <th>1913</th>\n      <td>12</td>\n      <td>12</td>\n      <td>0</td>\n      <td>4</td>\n      <td>0</td>\n    </tr>\n    <tr>\n      <th>1914</th>\n      <td>16</td>\n      <td>12</td>\n      <td>4</td>\n      <td>6</td>\n      <td>0</td>\n    </tr>\n    <tr>\n      <th>1915</th>\n      <td>11</td>\n      <td>11</td>\n      <td>0</td>\n      <td>5</td>\n      <td>0</td>\n    </tr>\n    <tr>\n      <th>1916</th>\n      <td>25</td>\n      <td>23</td>\n      <td>2</td>\n      <td>12</td>\n      <td>0</td>\n    </tr>\n    <tr>\n      <th>1917</th>\n      <td>11</td>\n      <td>11</td>\n      <td>0</td>\n      <td>5</td>\n      <td>0</td>\n    </tr>\n    <tr>\n      <th>1918</th>\n      <td>5</td>\n      <td>5</td>\n      <td>0</td>\n      <td>3</td>\n      <td>0</td>\n    </tr>\n    <tr>\n      <th>1919</th>\n      <td>13</td>\n      <td>11</td>\n      <td>2</td>\n      <td>5</td>\n      <td>0</td>\n    </tr>\n    <tr>\n      <th>1920</th>\n      <td>13</td>\n      <td>11</td>\n      <td>2</td>\n      <td>4</td>\n      <td>0</td>\n    </tr>\n    <tr>\n      <th>1921</th>\n      <td>9</td>\n      <td>9</td>\n      <td>0</td>\n      <td>4</td>\n      <td>0</td>\n    </tr>\n    <tr>\n      <th>1922</th>\n      <td>20</td>\n      <td>17</td>\n      <td>3</td>\n      <td>14</td>\n      <td>0</td>\n    </tr>\n    <tr>\n      <th>1923</th>\n      <td>18</td>\n      <td>18</td>\n      <td>0</td>\n      <td>9</td>\n      <td>0</td>\n    </tr>\n    <tr>\n      <th>1924</th>\n      <td>17</td>\n      <td>15</td>\n      <td>2</td>\n      <td>5</td>\n      <td>0</td>\n    </tr>\n    <tr>\n      <th>1925</th>\n      <td>12</td>\n      <td>11</td>\n      <td>1</td>\n      <td>3</td>\n      <td>0</td>\n    </tr>\n    <tr>\n      <th>1926</th>\n      <td>19</td>\n      <td>16</td>\n      <td>3</td>\n      <td>9</td>\n      <td>0</td>\n    </tr>\n    <tr>\n      <th>1927</th>\n      <td>15</td>\n      <td>15</td>\n      <td>0</td>\n      <td>4</td>\n      <td>0</td>\n    </tr>\n    <tr>\n      <th>1928</th>\n      <td>23</td>\n      <td>21</td>\n      <td>2</td>\n      <td>7</td>\n      <td>0</td>\n    </tr>\n    <tr>\n      <th>1929</th>\n      <td>35</td>\n      <td>32</td>\n      <td>3</td>\n      <td>13</td>\n      <td>0</td>\n    </tr>\n    <tr>\n      <th>1930</th>\n      <td>22</td>\n      <td>22</td>\n      <td>0</td>\n      <td>8</td>\n      <td>0</td>\n    </tr>\n    <tr>\n      <th>1931</th>\n      <td>25</td>\n      <td>24</td>\n      <td>1</td>\n      <td>11</td>\n      <td>0</td>\n    </tr>\n    <tr>\n      <th>1932</th>\n      <td>25</td>\n      <td>23</td>\n      <td>2</td>\n      <td>8</td>\n      <td>1</td>\n    </tr>\n    <tr>\n      <th>1933</th>\n      <td>20</td>\n      <td>18</td>\n      <td>2</td>\n      <td>4</td>\n      <td>0</td>\n    </tr>\n    <tr>\n      <th>1934</th>\n      <td>26</td>\n      <td>21</td>\n      <td>4</td>\n      <td>11</td>\n      <td>0</td>\n    </tr>\n    <tr>\n      <th>1935</th>\n      <td>27</td>\n      <td>25</td>\n      <td>2</td>\n      <td>11</td>\n      <td>0</td>\n    </tr>\n    <tr>\n      <th>1936</th>\n      <td>23</td>\n      <td>22</td>\n      <td>1</td>\n      <td>8</td>\n      <td>1</td>\n    </tr>\n    <tr>\n      <th>1937</th>\n      <td>24</td>\n      <td>24</td>\n      <td>0</td>\n      <td>12</td>\n      <td>0</td>\n    </tr>\n    <tr>\n      <th>1938</th>\n      <td>22</td>\n      <td>22</td>\n      <td>0</td>\n      <td>5</td>\n      <td>0</td>\n    </tr>\n    <tr>\n      <th>1939</th>\n      <td>18</td>\n      <td>17</td>\n      <td>1</td>\n      <td>7</td>\n      <td>0</td>\n    </tr>\n    <tr>\n      <th>1940</th>\n      <td>20</td>\n      <td>17</td>\n      <td>3</td>\n      <td>10</td>\n      <td>0</td>\n    </tr>\n    <tr>\n      <th>1941</th>\n      <td>23</td>\n      <td>23</td>\n      <td>0</td>\n      <td>8</td>\n      <td>0</td>\n    </tr>\n    <tr>\n      <th>1942</th>\n      <td>36</td>\n      <td>34</td>\n      <td>2</td>\n      <td>18</td>\n      <td>0</td>\n    </tr>\n    <tr>\n      <th>1943</th>\n      <td>22</td>\n      <td>22</td>\n      <td>0</td>\n      <td>10</td>\n      <td>0</td>\n    </tr>\n    <tr>\n      <th>1944</th>\n      <td>27</td>\n      <td>26</td>\n      <td>1</td>\n      <td>17</td>\n      <td>0</td>\n    </tr>\n    <tr>\n      <th>1945</th>\n      <td>13</td>\n      <td>12</td>\n      <td>1</td>\n      <td>5</td>\n      <td>0</td>\n    </tr>\n    <tr>\n      <th>1946</th>\n      <td>21</td>\n      <td>19</td>\n      <td>2</td>\n      <td>4</td>\n      <td>0</td>\n    </tr>\n    <tr>\n      <th>1947</th>\n      <td>23</td>\n      <td>23</td>\n      <td>0</td>\n      <td>4</td>\n      <td>0</td>\n    </tr>\n    <tr>\n      <th>1948</th>\n      <td>27</td>\n      <td>26</td>\n      <td>1</td>\n      <td>11</td>\n      <td>0</td>\n    </tr>\n    <tr>\n      <th>1949</th>\n      <td>28</td>\n      <td>27</td>\n      <td>1</td>\n      <td>9</td>\n      <td>0</td>\n    </tr>\n    <tr>\n      <th>1950</th>\n      <td>39</td>\n      <td>39</td>\n      <td>0</td>\n      <td>12</td>\n      <td>1</td>\n    </tr>\n    <tr>\n      <th>1951</th>\n      <td>27</td>\n      <td>25</td>\n      <td>2</td>\n      <td>10</td>\n      <td>0</td>\n    </tr>\n    <tr>\n      <th>1952</th>\n      <td>26</td>\n      <td>25</td>\n      <td>1</td>\n      <td>10</td>\n      <td>0</td>\n    </tr>\n    <tr>\n      <th>1953</th>\n      <td>32</td>\n      <td>27</td>\n      <td>5</td>\n      <td>5</td>\n      <td>0</td>\n    </tr>\n    <tr>\n      <th>1954</th>\n      <td>37</td>\n      <td>36</td>\n      <td>1</td>\n      <td>17</td>\n      <td>0</td>\n    </tr>\n    <tr>\n      <th>1955</th>\n      <td>37</td>\n      <td>35</td>\n      <td>2</td>\n      <td>12</td>\n      <td>0</td>\n    </tr>\n    <tr>\n      <th>1956</th>\n      <td>44</td>\n      <td>42</td>\n      <td>2</td>\n      <td>20</td>\n      <td>0</td>\n    </tr>\n    <tr>\n      <th>1957</th>\n      <td>34</td>\n      <td>32</td>\n      <td>2</td>\n      <td>11</td>\n      <td>0</td>\n    </tr>\n    <tr>\n      <th>1958</th>\n      <td>47</td>\n      <td>43</td>\n      <td>4</td>\n      <td>19</td>\n      <td>1</td>\n    </tr>\n    <tr>\n      <th>1959</th>\n      <td>74</td>\n      <td>69</td>\n      <td>5</td>\n      <td>22</td>\n      <td>0</td>\n    </tr>\n    <tr>\n      <th>1960</th>\n      <td>69</td>\n      <td>63</td>\n      <td>6</td>\n      <td>15</td>\n      <td>0</td>\n    </tr>\n    <tr>\n      <th>1961</th>\n      <td>66</td>\n      <td>63</td>\n      <td>3</td>\n      <td>11</td>\n      <td>0</td>\n    </tr>\n    <tr>\n      <th>1962</th>\n      <td>62</td>\n      <td>59</td>\n      <td>3</td>\n      <td>18</td>\n      <td>0</td>\n    </tr>\n    <tr>\n      <th>1963</th>\n      <td>53</td>\n      <td>47</td>\n      <td>6</td>\n      <td>15</td>\n      <td>0</td>\n    </tr>\n    <tr>\n      <th>1964</th>\n      <td>53</td>\n      <td>51</td>\n      <td>2</td>\n      <td>17</td>\n      <td>0</td>\n    </tr>\n    <tr>\n      <th>1965</th>\n      <td>47</td>\n      <td>46</td>\n      <td>1</td>\n      <td>12</td>\n      <td>0</td>\n    </tr>\n    <tr>\n      <th>1966</th>\n      <td>52</td>\n      <td>43</td>\n      <td>9</td>\n      <td>13</td>\n      <td>0</td>\n    </tr>\n    <tr>\n      <th>1967</th>\n      <td>41</td>\n      <td>39</td>\n      <td>2</td>\n      <td>11</td>\n      <td>0</td>\n    </tr>\n    <tr>\n      <th>1968</th>\n      <td>36</td>\n      <td>34</td>\n      <td>2</td>\n      <td>4</td>\n      <td>0</td>\n    </tr>\n    <tr>\n      <th>1969</th>\n      <td>24</td>\n      <td>24</td>\n      <td>0</td>\n      <td>0</td>\n      <td>1</td>\n    </tr>\n    <tr>\n      <th>1970</th>\n      <td>38</td>\n      <td>35</td>\n      <td>3</td>\n      <td>8</td>\n      <td>0</td>\n    </tr>\n    <tr>\n      <th>1971</th>\n      <td>24</td>\n      <td>23</td>\n      <td>1</td>\n      <td>7</td>\n      <td>0</td>\n    </tr>\n    <tr>\n      <th>1972</th>\n      <td>30</td>\n      <td>27</td>\n      <td>3</td>\n      <td>7</td>\n      <td>0</td>\n    </tr>\n    <tr>\n      <th>1973</th>\n      <td>22</td>\n      <td>22</td>\n      <td>0</td>\n      <td>7</td>\n      <td>0</td>\n    </tr>\n    <tr>\n      <th>1974</th>\n      <td>33</td>\n      <td>30</td>\n      <td>3</td>\n      <td>8</td>\n      <td>0</td>\n    </tr>\n    <tr>\n      <th>1975</th>\n      <td>44</td>\n      <td>39</td>\n      <td>5</td>\n      <td>7</td>\n      <td>1</td>\n    </tr>\n    <tr>\n      <th>1976</th>\n      <td>27</td>\n      <td>25</td>\n      <td>2</td>\n      <td>6</td>\n      <td>2</td>\n    </tr>\n    <tr>\n      <th>1977</th>\n      <td>24</td>\n      <td>24</td>\n      <td>0</td>\n      <td>5</td>\n      <td>0</td>\n    </tr>\n    <tr>\n      <th>1978</th>\n      <td>22</td>\n      <td>20</td>\n      <td>2</td>\n      <td>4</td>\n      <td>1</td>\n    </tr>\n    <tr>\n      <th>1979</th>\n      <td>22</td>\n      <td>22</td>\n      <td>0</td>\n      <td>9</td>\n      <td>0</td>\n    </tr>\n    <tr>\n      <th>1980</th>\n      <td>33</td>\n      <td>28</td>\n      <td>5</td>\n      <td>6</td>\n      <td>0</td>\n    </tr>\n    <tr>\n      <th>1981</th>\n      <td>42</td>\n      <td>39</td>\n      <td>3</td>\n      <td>8</td>\n      <td>2</td>\n    </tr>\n    <tr>\n      <th>1982</th>\n      <td>36</td>\n      <td>29</td>\n      <td>7</td>\n      <td>8</td>\n      <td>0</td>\n    </tr>\n    <tr>\n      <th>1983</th>\n      <td>46</td>\n      <td>41</td>\n      <td>5</td>\n      <td>7</td>\n      <td>1</td>\n    </tr>\n    <tr>\n      <th>1984</th>\n      <td>37</td>\n      <td>30</td>\n      <td>7</td>\n      <td>9</td>\n      <td>1</td>\n    </tr>\n    <tr>\n      <th>1985</th>\n      <td>33</td>\n      <td>30</td>\n      <td>3</td>\n      <td>6</td>\n      <td>0</td>\n    </tr>\n    <tr>\n      <th>1986</th>\n      <td>31</td>\n      <td>29</td>\n      <td>2</td>\n      <td>3</td>\n      <td>0</td>\n    </tr>\n    <tr>\n      <th>1987</th>\n      <td>30</td>\n      <td>26</td>\n      <td>4</td>\n      <td>6</td>\n      <td>1</td>\n    </tr>\n    <tr>\n      <th>1988</th>\n      <td>51</td>\n      <td>44</td>\n      <td>7</td>\n      <td>9</td>\n      <td>0</td>\n    </tr>\n    <tr>\n      <th>1989</th>\n      <td>49</td>\n      <td>44</td>\n      <td>5</td>\n      <td>11</td>\n      <td>1</td>\n    </tr>\n    <tr>\n      <th>1990</th>\n      <td>36</td>\n      <td>32</td>\n      <td>4</td>\n      <td>4</td>\n      <td>0</td>\n    </tr>\n    <tr>\n      <th>1991</th>\n      <td>36</td>\n      <td>31</td>\n      <td>5</td>\n      <td>7</td>\n      <td>0</td>\n    </tr>\n    <tr>\n      <th>1992</th>\n      <td>50</td>\n      <td>45</td>\n      <td>5</td>\n      <td>12</td>\n      <td>0</td>\n    </tr>\n    <tr>\n      <th>1993</th>\n      <td>45</td>\n      <td>36</td>\n      <td>9</td>\n      <td>14</td>\n      <td>0</td>\n    </tr>\n    <tr>\n      <th>1994</th>\n      <td>48</td>\n      <td>40</td>\n      <td>8</td>\n      <td>9</td>\n      <td>1</td>\n    </tr>\n    <tr>\n      <th>1995</th>\n      <td>70</td>\n      <td>60</td>\n      <td>10</td>\n      <td>12</td>\n      <td>1</td>\n    </tr>\n    <tr>\n      <th>1996</th>\n      <td>51</td>\n      <td>42</td>\n      <td>9</td>\n      <td>9</td>\n      <td>0</td>\n    </tr>\n    <tr>\n      <th>1997</th>\n      <td>51</td>\n      <td>44</td>\n      <td>7</td>\n      <td>10</td>\n      <td>0</td>\n    </tr>\n    <tr>\n      <th>1998</th>\n      <td>61</td>\n      <td>56</td>\n      <td>5</td>\n      <td>9</td>\n      <td>0</td>\n    </tr>\n    <tr>\n      <th>1999</th>\n      <td>61</td>\n      <td>51</td>\n      <td>10</td>\n      <td>5</td>\n      <td>1</td>\n    </tr>\n    <tr>\n      <th>2000</th>\n      <td>85</td>\n      <td>73</td>\n      <td>12</td>\n      <td>16</td>\n      <td>0</td>\n    </tr>\n    <tr>\n      <th>2001</th>\n      <td>84</td>\n      <td>71</td>\n      <td>13</td>\n      <td>8</td>\n      <td>2</td>\n    </tr>\n    <tr>\n      <th>2002</th>\n      <td>82</td>\n      <td>73</td>\n      <td>9</td>\n      <td>10</td>\n      <td>1</td>\n    </tr>\n    <tr>\n      <th>2003</th>\n      <td>87</td>\n      <td>75</td>\n      <td>12</td>\n      <td>9</td>\n      <td>1</td>\n    </tr>\n    <tr>\n      <th>2004</th>\n      <td>84</td>\n      <td>69</td>\n      <td>14</td>\n      <td>13</td>\n      <td>1</td>\n    </tr>\n    <tr>\n      <th>2005</th>\n      <td>93</td>\n      <td>78</td>\n      <td>14</td>\n      <td>9</td>\n      <td>2</td>\n    </tr>\n    <tr>\n      <th>2006</th>\n      <td>98</td>\n      <td>81</td>\n      <td>17</td>\n      <td>14</td>\n      <td>1</td>\n    </tr>\n    <tr>\n      <th>2007</th>\n      <td>107</td>\n      <td>78</td>\n      <td>29</td>\n      <td>8</td>\n      <td>1</td>\n    </tr>\n    <tr>\n      <th>2008</th>\n      <td>114</td>\n      <td>101</td>\n      <td>13</td>\n      <td>13</td>\n      <td>2</td>\n    </tr>\n    <tr>\n      <th>2009</th>\n      <td>115</td>\n      <td>98</td>\n      <td>17</td>\n      <td>16</td>\n      <td>2</td>\n    </tr>\n    <tr>\n      <th>2010</th>\n      <td>101</td>\n      <td>79</td>\n      <td>22</td>\n      <td>11</td>\n      <td>3</td>\n    </tr>\n    <tr>\n      <th>2011</th>\n      <td>123</td>\n      <td>109</td>\n      <td>14</td>\n      <td>16</td>\n      <td>5</td>\n    </tr>\n    <tr>\n      <th>2012</th>\n      <td>110</td>\n      <td>91</td>\n      <td>19</td>\n      <td>11</td>\n      <td>3</td>\n    </tr>\n    <tr>\n      <th>2013</th>\n      <td>120</td>\n      <td>102</td>\n      <td>18</td>\n      <td>16</td>\n      <td>2</td>\n    </tr>\n    <tr>\n      <th>2014</th>\n      <td>116</td>\n      <td>92</td>\n      <td>23</td>\n      <td>10</td>\n      <td>3</td>\n    </tr>\n    <tr>\n      <th>2015</th>\n      <td>137</td>\n      <td>110</td>\n      <td>27</td>\n      <td>10</td>\n      <td>8</td>\n    </tr>\n    <tr>\n      <th>2016</th>\n      <td>99</td>\n      <td>81</td>\n      <td>18</td>\n      <td>5</td>\n      <td>1</td>\n    </tr>\n  </tbody>\n</table>\n</div>",
      "text/plain": "      Casos  Hombres  Mujeres  Mortalidad  Título\nAños                                             \n1900     11       11        0           5       0\n1901      7        7        0           3       0\n1902     15       15        0           7       0\n1903     10       10        0           8       0\n1904     13       13        0           9       0\n1905     14       14        0           9       0\n1906     21       21        0          14       0\n1907     23       20        3          13       0\n1908     11        9        1          10       0\n1909     15       12        3           9       0\n1910     12       12        0           5       0\n1911     15       15        0           9       0\n1912     12       12        0           6       0\n1913     12       12        0           4       0\n1914     16       12        4           6       0\n1915     11       11        0           5       0\n1916     25       23        2          12       0\n1917     11       11        0           5       0\n1918      5        5        0           3       0\n1919     13       11        2           5       0\n1920     13       11        2           4       0\n1921      9        9        0           4       0\n1922     20       17        3          14       0\n1923     18       18        0           9       0\n1924     17       15        2           5       0\n1925     12       11        1           3       0\n1926     19       16        3           9       0\n1927     15       15        0           4       0\n1928     23       21        2           7       0\n1929     35       32        3          13       0\n1930     22       22        0           8       0\n1931     25       24        1          11       0\n1932     25       23        2           8       1\n1933     20       18        2           4       0\n1934     26       21        4          11       0\n1935     27       25        2          11       0\n1936     23       22        1           8       1\n1937     24       24        0          12       0\n1938     22       22        0           5       0\n1939     18       17        1           7       0\n1940     20       17        3          10       0\n1941     23       23        0           8       0\n1942     36       34        2          18       0\n1943     22       22        0          10       0\n1944     27       26        1          17       0\n1945     13       12        1           5       0\n1946     21       19        2           4       0\n1947     23       23        0           4       0\n1948     27       26        1          11       0\n1949     28       27        1           9       0\n1950     39       39        0          12       1\n1951     27       25        2          10       0\n1952     26       25        1          10       0\n1953     32       27        5           5       0\n1954     37       36        1          17       0\n1955     37       35        2          12       0\n1956     44       42        2          20       0\n1957     34       32        2          11       0\n1958     47       43        4          19       1\n1959     74       69        5          22       0\n1960     69       63        6          15       0\n1961     66       63        3          11       0\n1962     62       59        3          18       0\n1963     53       47        6          15       0\n1964     53       51        2          17       0\n1965     47       46        1          12       0\n1966     52       43        9          13       0\n1967     41       39        2          11       0\n1968     36       34        2           4       0\n1969     24       24        0           0       1\n1970     38       35        3           8       0\n1971     24       23        1           7       0\n1972     30       27        3           7       0\n1973     22       22        0           7       0\n1974     33       30        3           8       0\n1975     44       39        5           7       1\n1976     27       25        2           6       2\n1977     24       24        0           5       0\n1978     22       20        2           4       1\n1979     22       22        0           9       0\n1980     33       28        5           6       0\n1981     42       39        3           8       2\n1982     36       29        7           8       0\n1983     46       41        5           7       1\n1984     37       30        7           9       1\n1985     33       30        3           6       0\n1986     31       29        2           3       0\n1987     30       26        4           6       1\n1988     51       44        7           9       0\n1989     49       44        5          11       1\n1990     36       32        4           4       0\n1991     36       31        5           7       0\n1992     50       45        5          12       0\n1993     45       36        9          14       0\n1994     48       40        8           9       1\n1995     70       60       10          12       1\n1996     51       42        9           9       0\n1997     51       44        7          10       0\n1998     61       56        5           9       0\n1999     61       51       10           5       1\n2000     85       73       12          16       0\n2001     84       71       13           8       2\n2002     82       73        9          10       1\n2003     87       75       12           9       1\n2004     84       69       14          13       1\n2005     93       78       14           9       2\n2006     98       81       17          14       1\n2007    107       78       29           8       1\n2008    114      101       13          13       2\n2009    115       98       17          16       2\n2010    101       79       22          11       3\n2011    123      109       14          16       5\n2012    110       91       19          11       3\n2013    120      102       18          16       2\n2014    116       92       23          10       3\n2015    137      110       27          10       8\n2016     99       81       18           5       1"
     },
     "execution_count": 212,
     "metadata": {},
     "output_type": "execute_result"
    }
   ],
   "source": [
    "dfinal3 = dfinal2[['Años', 'Casos', 'Hombres', 'Mujeres', 'Mortalidad', 'Título']]\n",
    "\n",
    "dfinal3.set_index(\"Años\").iloc[1::]\n",
    "\n"
   ]
  },
  {
   "cell_type": "markdown",
   "execution_count": null,
   "metadata": {},
   "outputs": [],
   "source": [
    "## Análisis estadístico de resultados finales"
   ]
  },
  {
   "cell_type": "code",
   "execution_count": 213,
   "metadata": {},
   "outputs": [],
   "source": [
    "# means = dfinal2.groupby('Mortalidad')[\"Título\"].mean()\n",
    "\n",
    "# means"
   ]
  },
  {
   "cell_type": "code",
   "execution_count": 214,
   "metadata": {},
   "outputs": [
    {
     "data": {
      "text/plain": "0.4956620740884708"
     },
     "execution_count": 214,
     "metadata": {},
     "output_type": "execute_result"
    }
   ],
   "source": [
    "dfinal3['Hombres'].corr(dfinal2['Mortalidad'])"
   ]
  },
  {
   "cell_type": "code",
   "execution_count": 215,
   "metadata": {},
   "outputs": [
    {
     "data": {
      "text/plain": "0.2588838224072595"
     },
     "execution_count": 215,
     "metadata": {},
     "output_type": "execute_result"
    }
   ],
   "source": [
    "dfinal3['Mujeres'].corr(dfinal2['Mortalidad'])"
   ]
  },
  {
   "cell_type": "code",
   "execution_count": 216,
   "metadata": {},
   "outputs": [
    {
     "data": {
      "text/plain": "0.13024309768634132"
     },
     "execution_count": 216,
     "metadata": {},
     "output_type": "execute_result"
    }
   ],
   "source": [
    "dfinal3['Mortalidad'].corr(dfinal2['Título'])"
   ]
  },
  {
   "cell_type": "code",
   "execution_count": 217,
   "metadata": {},
   "outputs": [
    {
     "data": {
      "image/png": "[encoded data removed]",
      "image/svg+xml": "<?xml version=\"1.0\" encoding=\"utf-8\" standalone=\"no\"?>\n<!DOCTYPE svg PUBLIC \"-//W3C//DTD SVG 1.1//EN\"\n  \"http://www.w3.org/Graphics/SVG/1.1/DTD/svg11.dtd\">\n<!-- Created with matplotlib (http://matplotlib.org/) -->\n<svg height=\"257pt\" version=\"1.1\" viewBox=\"0 0 254 257\" width=\"254pt\" xmlns=\"http://www.w3.org/2000/svg\" xmlns:xlink=\"http://www.w3.org/1999/xlink\">\n <defs>\n  <style type=\"text/css\">\n*{stroke-linecap:butt;stroke-linejoin:round;}\n  </style>\n </defs>\n <g id=\"figure_1\">\n  <g id=\"patch_1\">\n   <path d=\"M 0 257.778125 \nL 254.4625 257.778125 \nL 254.4625 0 \nL 0 0 \nz\n\" style=\"fill:none;\"/>\n  </g>\n  <g id=\"axes_1\">\n   <g id=\"patch_2\">\n    <path d=\"M 20.5625 247.078125 \nL 243.7625 247.078125 \nL 243.7625 23.878125 \nL 20.5625 23.878125 \nz\n\" style=\"fill:#ffffff;\"/>\n   </g>\n   <g clip-path=\"url(#p8572e3eace)\">\n    <image height=\"224\" id=\"image7024a2ec6a\" transform=\"scale(1 -1)translate(0 -224)\" width=\"224\" x=\"20.5625\" xlink:href=\"data:image/png;base64,\niVBORw0KGgoAAAANSUhEUgAAAOAAAADgCAYAAAAaLWrhAAAABHNCSVQICAgIfAhkiAAAA4dJREFUeJzt1T9q1EEAhmFXNy5qIbFQEWz804ognkBQiQew8AgBG69gJymtPIEXCHqLYKtYGFgFIZpCIUaNvfPr34U8zwk+hnlnZjeebx2dWDHrd77WEyYdHM7rCYPF2u96wuD8xod6wqS3y516wuBkPQCOMwFCSIAQEiCEBAghAUJIgBASIIQECCEBQkiAEBIghAQIIQFCSIAQEiCEBAghAUJIgBASIIQECCEBQkiAEBIghAQIIQFCSIAQEiCEBAghAUJIgBASIIQECCEBQkiAEBIghObXXn+rNwyWexfrCZMOz9YLRpe29+sJgzfLnXrCpAdXbtcTBn5ACAkQQgKEkAAhJEAICRBCAoSQACEkQAgJEEIChJAAISRACAkQQgKEkAAhJEAICRBCAoSQACEkQAgJEEIChJAAISRACAkQQgKEkAAhJEAICRBCAoSQACEkQAgJEEIChJAAISRACM1/bB3UGwYvrr+qJ0x6/+tyPWGwublbTxg8fPSknjBpf3v17rofEEIChJAAISRACAkQQgKEkAAhJEAICRBCAoSQACEkQAgJEEIChJAAISRACAkQQgKEkAAhJEAICRBCAoSQACEkQAgJEEIChJAAISRACAkQQgKEkAAhJEAICRBCAoSQACEkQAjNb11Y1hsG984c1BMm3T+7W08YvPx+tZ4w+LRxvp4waXG4V08Y+AEhJEAICRBCAoSQACEkQAgJEEIChJAAISRACAkQQgKEkAAhJEAICRBCAoSQACEkQAgJEEIChJAAISRACAkQQgKEkAAhJEAICRBCAoSQACEkQAgJEEIChJAAISRACAkQQgKE0Pzk7G+9YXBqtprvwp+j1Turm6e/1BMGaz/rBdMWa7/rCYPVvOlwTAgQQgKEkAAhJEAICRBCAoSQACEkQAgJEEIChJAAISRACAkQQgKEkAAhJEAICRBCAoSQACEkQAgJEEIChJAAISRACAkQQgKEkAAhJEAICRBCAoSQACEkQAgJEEIChJAAISRACM3+fL5xVI/439Pl3XrCpL9Hq/devdu7Uk8YnHu2qCdM+vh4vZ4wWL0bBceIACEkQAgJEEIChJAAISRACAkQQgKEkAAhJEAICRBCAoSQACEkQAgJEEIChJAAISRACAkQQgKEkAAhJEAICRBCAoSQACEkQAgJEEIChJAAISRACAkQQgKEkAAhJEAICRBC/wDpkTnivGczLAAAAABJRU5ErkJggg==\" y=\"-23.078125\"/>\n   </g>\n   <g id=\"matplotlib.axis_1\">\n    <g id=\"xtick_1\">\n     <g id=\"line2d_1\">\n      <defs>\n       <path d=\"M 0 0 \nL 0 3.5 \n\" id=\"mb29dcd3523\" style=\"stroke:#000000;stroke-width:0.8;\"/>\n      </defs>\n      <g>\n       <use style=\"stroke:#000000;stroke-width:0.8;\" x=\"39.1625\" xlink:href=\"#mb29dcd3523\" y=\"247.078125\"/>\n      </g>\n     </g>\n     <g id=\"line2d_2\">\n      <defs>\n       <path d=\"M 0 0 \nL 0 -3.5 \n\" id=\"m8ae25065f0\" style=\"stroke:#000000;stroke-width:0.8;\"/>\n      </defs>\n      <g>\n       <use style=\"stroke:#000000;stroke-width:0.8;\" x=\"39.1625\" xlink:href=\"#m8ae25065f0\" y=\"23.878125\"/>\n      </g>\n     </g>\n     <g id=\"text_1\">\n      <!-- 0 -->\n      <defs>\n       <path d=\"M 31.78125 66.40625 \nQ 24.171875 66.40625 20.328125 58.90625 \nQ 16.5 51.421875 16.5 36.375 \nQ 16.5 21.390625 20.328125 13.890625 \nQ 24.171875 6.390625 31.78125 6.390625 \nQ 39.453125 6.390625 43.28125 13.890625 \nQ 47.125 21.390625 47.125 36.375 \nQ 47.125 51.421875 43.28125 58.90625 \nQ 39.453125 66.40625 31.78125 66.40625 \nz\nM 31.78125 74.21875 \nQ 44.046875 74.21875 50.515625 64.515625 \nQ 56.984375 54.828125 56.984375 36.375 \nQ 56.984375 17.96875 50.515625 8.265625 \nQ 44.046875 -1.421875 31.78125 -1.421875 \nQ 19.53125 -1.421875 13.0625 8.265625 \nQ 6.59375 17.96875 6.59375 36.375 \nQ 6.59375 54.828125 13.0625 64.515625 \nQ 19.53125 74.21875 31.78125 74.21875 \nz\n\" id=\"DejaVuSans-30\"/>\n      </defs>\n      <g transform=\"translate(35.98125 14.798438)scale(0.1 -0.1)\">\n       <use xlink:href=\"#DejaVuSans-30\"/>\n      </g>\n     </g>\n    </g>\n    <g id=\"xtick_2\">\n     <g id=\"line2d_3\">\n      <g>\n       <use style=\"stroke:#000000;stroke-width:0.8;\" x=\"76.3625\" xlink:href=\"#mb29dcd3523\" y=\"247.078125\"/>\n      </g>\n     </g>\n     <g id=\"line2d_4\">\n      <g>\n       <use style=\"stroke:#000000;stroke-width:0.8;\" x=\"76.3625\" xlink:href=\"#m8ae25065f0\" y=\"23.878125\"/>\n      </g>\n     </g>\n     <g id=\"text_2\">\n      <!-- 1 -->\n      <defs>\n       <path d=\"M 12.40625 8.296875 \nL 28.515625 8.296875 \nL 28.515625 63.921875 \nL 10.984375 60.40625 \nL 10.984375 69.390625 \nL 28.421875 72.90625 \nL 38.28125 72.90625 \nL 38.28125 8.296875 \nL 54.390625 8.296875 \nL 54.390625 0 \nL 12.40625 0 \nz\n\" id=\"DejaVuSans-31\"/>\n      </defs>\n      <g transform=\"translate(73.18125 14.798438)scale(0.1 -0.1)\">\n       <use xlink:href=\"#DejaVuSans-31\"/>\n      </g>\n     </g>\n    </g>\n    <g id=\"xtick_3\">\n     <g id=\"line2d_5\">\n      <g>\n       <use style=\"stroke:#000000;stroke-width:0.8;\" x=\"113.5625\" xlink:href=\"#mb29dcd3523\" y=\"247.078125\"/>\n      </g>\n     </g>\n     <g id=\"line2d_6\">\n      <g>\n       <use style=\"stroke:#000000;stroke-width:0.8;\" x=\"113.5625\" xlink:href=\"#m8ae25065f0\" y=\"23.878125\"/>\n      </g>\n     </g>\n     <g id=\"text_3\">\n      <!-- 2 -->\n      <defs>\n       <path d=\"M 19.1875 8.296875 \nL 53.609375 8.296875 \nL 53.609375 0 \nL 7.328125 0 \nL 7.328125 8.296875 \nQ 12.9375 14.109375 22.625 23.890625 \nQ 32.328125 33.6875 34.8125 36.53125 \nQ 39.546875 41.84375 41.421875 45.53125 \nQ 43.3125 49.21875 43.3125 52.78125 \nQ 43.3125 58.59375 39.234375 62.25 \nQ 35.15625 65.921875 28.609375 65.921875 \nQ 23.96875 65.921875 18.8125 64.3125 \nQ 13.671875 62.703125 7.8125 59.421875 \nL 7.8125 69.390625 \nQ 13.765625 71.78125 18.9375 73 \nQ 24.125 74.21875 28.421875 74.21875 \nQ 39.75 74.21875 46.484375 68.546875 \nQ 53.21875 62.890625 53.21875 53.421875 \nQ 53.21875 48.921875 51.53125 44.890625 \nQ 49.859375 40.875 45.40625 35.40625 \nQ 44.1875 33.984375 37.640625 27.21875 \nQ 31.109375 20.453125 19.1875 8.296875 \nz\n\" id=\"DejaVuSans-32\"/>\n      </defs>\n      <g transform=\"translate(110.38125 14.798438)scale(0.1 -0.1)\">\n       <use xlink:href=\"#DejaVuSans-32\"/>\n      </g>\n     </g>\n    </g>\n    <g id=\"xtick_4\">\n     <g id=\"line2d_7\">\n      <g>\n       <use style=\"stroke:#000000;stroke-width:0.8;\" x=\"150.7625\" xlink:href=\"#mb29dcd3523\" y=\"247.078125\"/>\n      </g>\n     </g>\n     <g id=\"line2d_8\">\n      <g>\n       <use style=\"stroke:#000000;stroke-width:0.8;\" x=\"150.7625\" xlink:href=\"#m8ae25065f0\" y=\"23.878125\"/>\n      </g>\n     </g>\n     <g id=\"text_4\">\n      <!-- 3 -->\n      <defs>\n       <path d=\"M 40.578125 39.3125 \nQ 47.65625 37.796875 51.625 33 \nQ 55.609375 28.21875 55.609375 21.1875 \nQ 55.609375 10.40625 48.1875 4.484375 \nQ 40.765625 -1.421875 27.09375 -1.421875 \nQ 22.515625 -1.421875 17.65625 -0.515625 \nQ 12.796875 0.390625 7.625 2.203125 \nL 7.625 11.71875 \nQ 11.71875 9.328125 16.59375 8.109375 \nQ 21.484375 6.890625 26.8125 6.890625 \nQ 36.078125 6.890625 40.9375 10.546875 \nQ 45.796875 14.203125 45.796875 21.1875 \nQ 45.796875 27.640625 41.28125 31.265625 \nQ 36.765625 34.90625 28.71875 34.90625 \nL 20.21875 34.90625 \nL 20.21875 43.015625 \nL 29.109375 43.015625 \nQ 36.375 43.015625 40.234375 45.921875 \nQ 44.09375 48.828125 44.09375 54.296875 \nQ 44.09375 59.90625 40.109375 62.90625 \nQ 36.140625 65.921875 28.71875 65.921875 \nQ 24.65625 65.921875 20.015625 65.03125 \nQ 15.375 64.15625 9.8125 62.3125 \nL 9.8125 71.09375 \nQ 15.4375 72.65625 20.34375 73.4375 \nQ 25.25 74.21875 29.59375 74.21875 \nQ 40.828125 74.21875 47.359375 69.109375 \nQ 53.90625 64.015625 53.90625 55.328125 \nQ 53.90625 49.265625 50.4375 45.09375 \nQ 46.96875 40.921875 40.578125 39.3125 \nz\n\" id=\"DejaVuSans-33\"/>\n      </defs>\n      <g transform=\"translate(147.58125 14.798438)scale(0.1 -0.1)\">\n       <use xlink:href=\"#DejaVuSans-33\"/>\n      </g>\n     </g>\n    </g>\n    <g id=\"xtick_5\">\n     <g id=\"line2d_9\">\n      <g>\n       <use style=\"stroke:#000000;stroke-width:0.8;\" x=\"187.9625\" xlink:href=\"#mb29dcd3523\" y=\"247.078125\"/>\n      </g>\n     </g>\n     <g id=\"line2d_10\">\n      <g>\n       <use style=\"stroke:#000000;stroke-width:0.8;\" x=\"187.9625\" xlink:href=\"#m8ae25065f0\" y=\"23.878125\"/>\n      </g>\n     </g>\n     <g id=\"text_5\">\n      <!-- 4 -->\n      <defs>\n       <path d=\"M 37.796875 64.3125 \nL 12.890625 25.390625 \nL 37.796875 25.390625 \nz\nM 35.203125 72.90625 \nL 47.609375 72.90625 \nL 47.609375 25.390625 \nL 58.015625 25.390625 \nL 58.015625 17.1875 \nL 47.609375 17.1875 \nL 47.609375 0 \nL 37.796875 0 \nL 37.796875 17.1875 \nL 4.890625 17.1875 \nL 4.890625 26.703125 \nz\n\" id=\"DejaVuSans-34\"/>\n      </defs>\n      <g transform=\"translate(184.78125 14.798438)scale(0.1 -0.1)\">\n       <use xlink:href=\"#DejaVuSans-34\"/>\n      </g>\n     </g>\n    </g>\n    <g id=\"xtick_6\">\n     <g id=\"line2d_11\">\n      <g>\n       <use style=\"stroke:#000000;stroke-width:0.8;\" x=\"225.1625\" xlink:href=\"#mb29dcd3523\" y=\"247.078125\"/>\n      </g>\n     </g>\n     <g id=\"line2d_12\">\n      <g>\n       <use style=\"stroke:#000000;stroke-width:0.8;\" x=\"225.1625\" xlink:href=\"#m8ae25065f0\" y=\"23.878125\"/>\n      </g>\n     </g>\n     <g id=\"text_6\">\n      <!-- 5 -->\n      <defs>\n       <path d=\"M 10.796875 72.90625 \nL 49.515625 72.90625 \nL 49.515625 64.59375 \nL 19.828125 64.59375 \nL 19.828125 46.734375 \nQ 21.96875 47.46875 24.109375 47.828125 \nQ 26.265625 48.1875 28.421875 48.1875 \nQ 40.625 48.1875 47.75 41.5 \nQ 54.890625 34.8125 54.890625 23.390625 \nQ 54.890625 11.625 47.5625 5.09375 \nQ 40.234375 -1.421875 26.90625 -1.421875 \nQ 22.3125 -1.421875 17.546875 -0.640625 \nQ 12.796875 0.140625 7.71875 1.703125 \nL 7.71875 11.625 \nQ 12.109375 9.234375 16.796875 8.0625 \nQ 21.484375 6.890625 26.703125 6.890625 \nQ 35.15625 6.890625 40.078125 11.328125 \nQ 45.015625 15.765625 45.015625 23.390625 \nQ 45.015625 31 40.078125 35.4375 \nQ 35.15625 39.890625 26.703125 39.890625 \nQ 22.75 39.890625 18.8125 39.015625 \nQ 14.890625 38.140625 10.796875 36.28125 \nz\n\" id=\"DejaVuSans-35\"/>\n      </defs>\n      <g transform=\"translate(221.98125 14.798438)scale(0.1 -0.1)\">\n       <use xlink:href=\"#DejaVuSans-35\"/>\n      </g>\n     </g>\n    </g>\n   </g>\n   <g id=\"matplotlib.axis_2\">\n    <g id=\"ytick_1\">\n     <g id=\"line2d_13\">\n      <defs>\n       <path d=\"M 0 0 \nL -3.5 0 \n\" id=\"m3b04d05a96\" style=\"stroke:#000000;stroke-width:0.8;\"/>\n      </defs>\n      <g>\n       <use style=\"stroke:#000000;stroke-width:0.8;\" x=\"20.5625\" xlink:href=\"#m3b04d05a96\" y=\"42.478125\"/>\n      </g>\n     </g>\n     <g id=\"text_7\">\n      <!-- 0 -->\n      <g transform=\"translate(7.2 46.277344)scale(0.1 -0.1)\">\n       <use xlink:href=\"#DejaVuSans-30\"/>\n      </g>\n     </g>\n    </g>\n    <g id=\"ytick_2\">\n     <g id=\"line2d_14\">\n      <g>\n       <use style=\"stroke:#000000;stroke-width:0.8;\" x=\"20.5625\" xlink:href=\"#m3b04d05a96\" y=\"79.678125\"/>\n      </g>\n     </g>\n     <g id=\"text_8\">\n      <!-- 1 -->\n      <g transform=\"translate(7.2 83.477344)scale(0.1 -0.1)\">\n       <use xlink:href=\"#DejaVuSans-31\"/>\n      </g>\n     </g>\n    </g>\n    <g id=\"ytick_3\">\n     <g id=\"line2d_15\">\n      <g>\n       <use style=\"stroke:#000000;stroke-width:0.8;\" x=\"20.5625\" xlink:href=\"#m3b04d05a96\" y=\"116.878125\"/>\n      </g>\n     </g>\n     <g id=\"text_9\">\n      <!-- 2 -->\n      <g transform=\"translate(7.2 120.677344)scale(0.1 -0.1)\">\n       <use xlink:href=\"#DejaVuSans-32\"/>\n      </g>\n     </g>\n    </g>\n    <g id=\"ytick_4\">\n     <g id=\"line2d_16\">\n      <g>\n       <use style=\"stroke:#000000;stroke-width:0.8;\" x=\"20.5625\" xlink:href=\"#m3b04d05a96\" y=\"154.078125\"/>\n      </g>\n     </g>\n     <g id=\"text_10\">\n      <!-- 3 -->\n      <g transform=\"translate(7.2 157.877344)scale(0.1 -0.1)\">\n       <use xlink:href=\"#DejaVuSans-33\"/>\n      </g>\n     </g>\n    </g>\n    <g id=\"ytick_5\">\n     <g id=\"line2d_17\">\n      <g>\n       <use style=\"stroke:#000000;stroke-width:0.8;\" x=\"20.5625\" xlink:href=\"#m3b04d05a96\" y=\"191.278125\"/>\n      </g>\n     </g>\n     <g id=\"text_11\">\n      <!-- 4 -->\n      <g transform=\"translate(7.2 195.077344)scale(0.1 -0.1)\">\n       <use xlink:href=\"#DejaVuSans-34\"/>\n      </g>\n     </g>\n    </g>\n    <g id=\"ytick_6\">\n     <g id=\"line2d_18\">\n      <g>\n       <use style=\"stroke:#000000;stroke-width:0.8;\" x=\"20.5625\" xlink:href=\"#m3b04d05a96\" y=\"228.478125\"/>\n      </g>\n     </g>\n     <g id=\"text_12\">\n      <!-- 5 -->\n      <g transform=\"translate(7.2 232.277344)scale(0.1 -0.1)\">\n       <use xlink:href=\"#DejaVuSans-35\"/>\n      </g>\n     </g>\n    </g>\n   </g>\n   <g id=\"patch_3\">\n    <path d=\"M 20.5625 247.078125 \nL 20.5625 23.878125 \n\" style=\"fill:none;stroke:#000000;stroke-linecap:square;stroke-linejoin:miter;stroke-width:0.8;\"/>\n   </g>\n   <g id=\"patch_4\">\n    <path d=\"M 243.7625 247.078125 \nL 243.7625 23.878125 \n\" style=\"fill:none;stroke:#000000;stroke-linecap:square;stroke-linejoin:miter;stroke-width:0.8;\"/>\n   </g>\n   <g id=\"patch_5\">\n    <path d=\"M 20.5625 247.078125 \nL 243.7625 247.078125 \n\" style=\"fill:none;stroke:#000000;stroke-linecap:square;stroke-linejoin:miter;stroke-width:0.8;\"/>\n   </g>\n   <g id=\"patch_6\">\n    <path d=\"M 20.5625 23.878125 \nL 243.7625 23.878125 \n\" style=\"fill:none;stroke:#000000;stroke-linecap:square;stroke-linejoin:miter;stroke-width:0.8;\"/>\n   </g>\n  </g>\n </g>\n <defs>\n  <clipPath id=\"p8572e3eace\">\n   <rect height=\"223.2\" width=\"223.2\" x=\"20.5625\" y=\"23.878125\"/>\n  </clipPath>\n </defs>\n</svg>\n",
      "text/plain": "<matplotlib.figure.Figure at 0x7f8480dda668>"
     },
     "metadata": {
      "needs_background": "light"
     },
     "output_type": "display_data"
    }
   ],
   "source": [
    "plt.matshow(dfinal3.corr(method='pearson'))\n",
    "\n",
    "plt.show()"
   ]
  },
  {
   "cell_type": "code",
   "execution_count": 218,
   "metadata": {},
   "outputs": [],
   "source": [
    "# rating_probs = dfinal3.groupby('Mortalidad').size().div(len(dfinal3))\n",
    "\n",
    "# dfinal3.groupby(['Hombres', 'Mortalidad']).size().fillna(0).div(len(df)).div(rating_probs, axis=0, level='Mortalidad')\n",
    "\n",
    "# mux = pd.MultiIndex.from_product([dfinal3['Mortalidad'].unique(), dfinal3['Hombres'].unique()]) \n",
    "\n",
    "# s = (dfinal3.groupby(['Mortalidad', 'Hombres']).count() / dfinal3.groupby('Mortalidad').count())['Mujeres'] \n",
    "\n",
    "# s = s.reindex(mux, fill_value=0)"
   ]
  },
  {
   "cell_type": "code",
   "execution_count": 219,
   "metadata": {},
   "outputs": [],
   "source": [
    "#dfinal2.to_csv('Relación.csv', header = False, index = False)"
   ]
  },
  {
   "cell_type": "markdown",
   "execution_count": null,
   "metadata": {},
   "outputs": [],
   "source": [
    "# Conclusión\n",
    "\n",
    "### La relación entre la mortalidad humana debido a ataques de tiburones presenta una correlación neutra con la emisión de películas del mismo ámbito."
   ]
  }
 ]
}